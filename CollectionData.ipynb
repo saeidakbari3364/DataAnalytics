{
 "cells": [
  {
   "cell_type": "code",
   "execution_count": 1,
   "id": "07a13c41",
   "metadata": {},
   "outputs": [],
   "source": [
    "import os"
   ]
  },
  {
   "cell_type": "code",
   "execution_count": 4,
   "id": "a0cf118d",
   "metadata": {},
   "outputs": [],
   "source": [
    "path='C:/Users/HUAWEI/DataAnalytics/'"
   ]
  },
  {
   "cell_type": "code",
   "execution_count": 5,
   "id": "d6aeba60",
   "metadata": {},
   "outputs": [],
   "source": [
    "files=os.listdir(path)"
   ]
  },
  {
   "cell_type": "code",
   "execution_count": 6,
   "id": "22f38b19",
   "metadata": {},
   "outputs": [
    {
     "data": {
      "text/plain": [
       "['GBcomments.csv',\n",
       " 'GBvideos.csv',\n",
       " 'GB_category_id.json',\n",
       " 'UScomments.csv',\n",
       " 'USvideos.csv',\n",
       " 'US_category_id.json']"
      ]
     },
     "execution_count": 6,
     "metadata": {},
     "output_type": "execute_result"
    }
   ],
   "source": [
    "files"
   ]
  },
  {
   "cell_type": "code",
   "execution_count": 7,
   "id": "40fea72a",
   "metadata": {},
   "outputs": [
    {
     "name": "stdout",
     "output_type": "stream",
     "text": [
      "1\n",
      "3\n",
      "5\n"
     ]
    }
   ],
   "source": [
    "for i in range(1,len(files),2):\n",
    "    print(i)"
   ]
  },
  {
   "cell_type": "code",
   "execution_count": 8,
   "id": "19732bb3",
   "metadata": {},
   "outputs": [
    {
     "data": {
      "text/plain": [
       "['GBvideos.csv', 'UScomments.csv', 'US_category_id.json']"
      ]
     },
     "execution_count": 8,
     "metadata": {},
     "output_type": "execute_result"
    }
   ],
   "source": [
    "[files[i] for i in range(1,len(files),2)]"
   ]
  },
  {
   "cell_type": "code",
   "execution_count": 9,
   "id": "40124451",
   "metadata": {},
   "outputs": [],
   "source": [
    "files_csv=[files[i] for i in range(1,len(files),2)]"
   ]
  },
  {
   "cell_type": "code",
   "execution_count": 10,
   "id": "c1cf1b39",
   "metadata": {},
   "outputs": [
    {
     "data": {
      "text/plain": [
       "'GBvideos.csv'"
      ]
     },
     "execution_count": 10,
     "metadata": {},
     "output_type": "execute_result"
    }
   ],
   "source": [
    "files_csv[0]"
   ]
  },
  {
   "cell_type": "code",
   "execution_count": 11,
   "id": "5ded536e",
   "metadata": {},
   "outputs": [
    {
     "data": {
      "text/plain": [
       "['GBvideos', 'csv']"
      ]
     },
     "execution_count": 11,
     "metadata": {},
     "output_type": "execute_result"
    }
   ],
   "source": [
    "files_csv[0].split('.')"
   ]
  },
  {
   "cell_type": "code",
   "execution_count": 12,
   "id": "03a45d74",
   "metadata": {},
   "outputs": [
    {
     "data": {
      "text/plain": [
       "'GBvideos'"
      ]
     },
     "execution_count": 12,
     "metadata": {},
     "output_type": "execute_result"
    }
   ],
   "source": [
    "files_csv[0].split('.')[0]"
   ]
  },
  {
   "cell_type": "code",
   "execution_count": 13,
   "id": "929d7974",
   "metadata": {},
   "outputs": [
    {
     "data": {
      "text/plain": [
       "'GB'"
      ]
     },
     "execution_count": 13,
     "metadata": {},
     "output_type": "execute_result"
    }
   ],
   "source": [
    "files_csv[0].split('.')[0][0:2]"
   ]
  },
  {
   "cell_type": "code",
   "execution_count": 14,
   "id": "28f88162",
   "metadata": {},
   "outputs": [],
   "source": [
    "import pandas as pd"
   ]
  },
  {
   "cell_type": "code",
   "execution_count": 18,
   "id": "97965f61",
   "metadata": {},
   "outputs": [
    {
     "name": "stderr",
     "output_type": "stream",
     "text": [
      "C:\\Users\\HUAWEI\\AppData\\Local\\Temp\\ipykernel_3276\\3711584884.py:3: FutureWarning: The error_bad_lines argument has been deprecated and will be removed in a future version. Use on_bad_lines in the future.\n",
      "\n",
      "\n",
      "  current_df=pd.read_csv(path+'/'+file,error_bad_lines=False)\n",
      "b'Skipping line 2398: expected 11 fields, saw 21\\nSkipping line 2797: expected 11 fields, saw 21\\n'\n",
      "C:\\Users\\HUAWEI\\AppData\\Local\\Temp\\ipykernel_3276\\3711584884.py:3: FutureWarning: The error_bad_lines argument has been deprecated and will be removed in a future version. Use on_bad_lines in the future.\n",
      "\n",
      "\n",
      "  current_df=pd.read_csv(path+'/'+file,error_bad_lines=False)\n",
      "b'Skipping line 41589: expected 4 fields, saw 11\\nSkipping line 51628: expected 4 fields, saw 7\\nSkipping line 114465: expected 4 fields, saw 5\\n'\n",
      "b'Skipping line 142496: expected 4 fields, saw 8\\nSkipping line 189732: expected 4 fields, saw 6\\nSkipping line 245218: expected 4 fields, saw 7\\n'\n",
      "b'Skipping line 388430: expected 4 fields, saw 5\\n'\n",
      "C:\\Users\\HUAWEI\\AppData\\Local\\Temp\\ipykernel_3276\\3711584884.py:3: DtypeWarning: Columns (2,3) have mixed types. Specify dtype option on import or set low_memory=False.\n",
      "  current_df=pd.read_csv(path+'/'+file,error_bad_lines=False)\n",
      "C:\\Users\\HUAWEI\\AppData\\Local\\Temp\\ipykernel_3276\\3711584884.py:3: FutureWarning: The error_bad_lines argument has been deprecated and will be removed in a future version. Use on_bad_lines in the future.\n",
      "\n",
      "\n",
      "  current_df=pd.read_csv(path+'/'+file,error_bad_lines=False)\n"
     ]
    }
   ],
   "source": [
    "full_df=pd.DataFrame()\n",
    "for file in files_csv:\n",
    "    current_df=pd.read_csv(path+'/'+file,error_bad_lines=False)\n",
    "    current_df['country']=file.split('.')[0][0:2]"
   ]
  },
  {
   "cell_type": "code",
   "execution_count": 19,
   "id": "c4acbb41",
   "metadata": {},
   "outputs": [],
   "source": [
    "full_df=pd.concat([full_df,current_df])"
   ]
  },
  {
   "cell_type": "code",
   "execution_count": 20,
   "id": "2e61f536",
   "metadata": {},
   "outputs": [
    {
     "data": {
      "text/html": [
       "<div>\n",
       "<style scoped>\n",
       "    .dataframe tbody tr th:only-of-type {\n",
       "        vertical-align: middle;\n",
       "    }\n",
       "\n",
       "    .dataframe tbody tr th {\n",
       "        vertical-align: top;\n",
       "    }\n",
       "\n",
       "    .dataframe thead th {\n",
       "        text-align: right;\n",
       "    }\n",
       "</style>\n",
       "<table border=\"1\" class=\"dataframe\">\n",
       "  <thead>\n",
       "    <tr style=\"text-align: right;\">\n",
       "      <th></th>\n",
       "      <th>{</th>\n",
       "      <th>country</th>\n",
       "    </tr>\n",
       "  </thead>\n",
       "  <tbody>\n",
       "    <tr>\n",
       "      <th>\"kind\": \"youtube#videoCategoryListResponse\"</th>\n",
       "      <td>NaN</td>\n",
       "      <td>US</td>\n",
       "    </tr>\n",
       "    <tr>\n",
       "      <th>\"etag\": \"\\\"m2yskBQFythfE4irbTIeOgYYfBU/S730Ilt-Fi-emsQJvJAAShlR6hM\\\"\"</th>\n",
       "      <td>NaN</td>\n",
       "      <td>US</td>\n",
       "    </tr>\n",
       "    <tr>\n",
       "      <th>\"items\": [</th>\n",
       "      <td>NaN</td>\n",
       "      <td>US</td>\n",
       "    </tr>\n",
       "    <tr>\n",
       "      <th>{</th>\n",
       "      <td>NaN</td>\n",
       "      <td>US</td>\n",
       "    </tr>\n",
       "    <tr>\n",
       "      <th>\"kind\": \"youtube#videoCategory\"</th>\n",
       "      <td>NaN</td>\n",
       "      <td>US</td>\n",
       "    </tr>\n",
       "    <tr>\n",
       "      <th>...</th>\n",
       "      <td>...</td>\n",
       "      <td>...</td>\n",
       "    </tr>\n",
       "    <tr>\n",
       "      <th>\"assignable\": false</th>\n",
       "      <td>NaN</td>\n",
       "      <td>US</td>\n",
       "    </tr>\n",
       "    <tr>\n",
       "      <th>}</th>\n",
       "      <td>NaN</td>\n",
       "      <td>US</td>\n",
       "    </tr>\n",
       "    <tr>\n",
       "      <th>}</th>\n",
       "      <td>NaN</td>\n",
       "      <td>US</td>\n",
       "    </tr>\n",
       "    <tr>\n",
       "      <th>]</th>\n",
       "      <td>NaN</td>\n",
       "      <td>US</td>\n",
       "    </tr>\n",
       "    <tr>\n",
       "      <th>}</th>\n",
       "      <td>NaN</td>\n",
       "      <td>US</td>\n",
       "    </tr>\n",
       "  </tbody>\n",
       "</table>\n",
       "<p>325 rows × 2 columns</p>\n",
       "</div>"
      ],
      "text/plain": [
       "                                                     { country\n",
       " \"kind\": \"youtube#videoCategoryListResponse\"       NaN      US\n",
       " \"etag\": \"\\\"m2yskBQFythfE4irbTIeOgYYfBU/S730Ilt... NaN      US\n",
       " \"items\": [                                        NaN      US\n",
       "  {                                                NaN      US\n",
       "   \"kind\": \"youtube#videoCategory\"                 NaN      US\n",
       "...                                                 ..     ...\n",
       "    \"assignable\": false                            NaN      US\n",
       "   }                                               NaN      US\n",
       "  }                                                NaN      US\n",
       " ]                                                 NaN      US\n",
       "}                                                  NaN      US\n",
       "\n",
       "[325 rows x 2 columns]"
      ]
     },
     "execution_count": 20,
     "metadata": {},
     "output_type": "execute_result"
    }
   ],
   "source": [
    "full_df"
   ]
  },
  {
   "cell_type": "code",
   "execution_count": null,
   "id": "776d5a18",
   "metadata": {},
   "outputs": [],
   "source": [
    "c"
   ]
  }
 ],
 "metadata": {
  "kernelspec": {
   "display_name": "Python 3 (ipykernel)",
   "language": "python",
   "name": "python3"
  },
  "language_info": {
   "codemirror_mode": {
    "name": "ipython",
    "version": 3
   },
   "file_extension": ".py",
   "mimetype": "text/x-python",
   "name": "python",
   "nbconvert_exporter": "python",
   "pygments_lexer": "ipython3",
   "version": "3.9.12"
  }
 },
 "nbformat": 4,
 "nbformat_minor": 5
}
